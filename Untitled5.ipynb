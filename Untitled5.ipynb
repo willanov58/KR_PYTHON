{
  "nbformat": 4,
  "nbformat_minor": 0,
  "metadata": {
    "colab": {
      "provenance": []
    },
    "kernelspec": {
      "name": "python3",
      "display_name": "Python 3"
    },
    "language_info": {
      "name": "python"
    }
  },
  "cells": [
    {
      "cell_type": "code",
      "execution_count": 1,
      "metadata": {
        "colab": {
          "base_uri": "https://localhost:8080/"
        },
        "id": "0hzFnmOpdwKD",
        "outputId": "2c736ec0-3d8d-4c4a-e94d-cea2a474558c"
      },
      "outputs": [
        {
          "output_type": "stream",
          "name": "stdout",
          "text": [
            "    robot  human\n",
            "0       1      0\n",
            "1       0      1\n",
            "2       1      0\n",
            "3       0      1\n",
            "4       1      0\n",
            "5       0      1\n",
            "6       1      0\n",
            "7       1      0\n",
            "8       0      1\n",
            "9       0      1\n",
            "10      0      1\n",
            "11      0      1\n",
            "12      1      0\n",
            "13      1      0\n",
            "14      1      0\n",
            "15      0      1\n",
            "16      1      0\n",
            "17      0      1\n",
            "18      1      0\n",
            "19      0      1\n"
          ]
        }
      ],
      "source": [
        "import pandas as pd\n",
        "import random\n",
        "\n",
        "lst = ['robot'] * 10\n",
        "lst += ['human'] * 10\n",
        "random.shuffle(lst)\n",
        "data = pd.DataFrame({'whoAmI':lst})\n",
        "\n",
        "# Создаем список уникальных значений в столбце 'whoAmI'\n",
        "unique_values = data['whoAmI'].unique()\n",
        "\n",
        "# Создаем пустой DataFrame для хранения one hot кодов\n",
        "one_hot_data = pd.DataFrame()\n",
        "\n",
        "# Для каждого уникального значения в столбце 'whoAmI' создаем новый столбец с one hot кодами\n",
        "for value in unique_values:\n",
        "    one_hot_data[value] = (data['whoAmI'] == value).astype(int)\n",
        "\n",
        "print(one_hot_data)"
      ]
    }
  ]
}